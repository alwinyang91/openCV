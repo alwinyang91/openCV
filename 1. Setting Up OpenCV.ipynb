{
 "cells": [
  {
   "cell_type": "markdown",
   "metadata": {},
   "source": [
    "# 1. Installing OpenCV"
   ]
  },
  {
   "cell_type": "code",
   "execution_count": 1,
   "metadata": {},
   "outputs": [
    {
     "name": "stdout",
     "output_type": "stream",
     "text": [
      "Requirement already satisfied: opencv-python in d:\\youtube\\19-10-2021 - opencv\\opencv\\lib\\site-packages (4.5.3.56)\n",
      "Requirement already satisfied: numpy>=1.14.5 in d:\\youtube\\19-10-2021 - opencv\\opencv\\lib\\site-packages (from opencv-python) (1.21.2)\n"
     ]
    }
   ],
   "source": [
    "!pip install opencv-python"
   ]
  },
  {
   "cell_type": "code",
   "execution_count": 2,
   "metadata": {
    "collapsed": true,
    "jupyter": {
     "outputs_hidden": true
    },
    "tags": []
   },
   "outputs": [
    {
     "name": "stdout",
     "output_type": "stream",
     "text": [
      "Package            Version\n",
      "------------------ --------\n",
      "argcomplete        1.12.3\n",
      "backcall           0.2.0\n",
      "colorama           0.4.4\n",
      "debugpy            1.5.1\n",
      "decorator          5.1.0\n",
      "entrypoints        0.3\n",
      "importlib-metadata 4.8.1\n",
      "ipykernel          6.4.1\n",
      "ipython            7.28.0\n",
      "ipython-genutils   0.2.0\n",
      "jedi               0.18.0\n",
      "jupyter-client     7.0.6\n",
      "jupyter-core       4.8.1\n",
      "matplotlib-inline  0.1.3\n",
      "nest-asyncio       1.5.1\n",
      "numpy              1.21.2\n",
      "opencv-python      4.5.3.56\n",
      "parso              0.8.2\n",
      "pickleshare        0.7.5\n",
      "pip                21.3\n",
      "prompt-toolkit     3.0.20\n",
      "Pygments           2.10.0\n",
      "python-dateutil    2.8.2\n",
      "pywin32            302\n",
      "pyzmq              22.3.0\n",
      "setuptools         40.8.0\n",
      "six                1.16.0\n",
      "tornado            6.1\n",
      "traitlets          5.1.0\n",
      "typing-extensions  3.10.0.2\n",
      "wcwidth            0.2.5\n",
      "zipp               3.6.0\n"
     ]
    }
   ],
   "source": [
    "!pip list"
   ]
  },
  {
   "cell_type": "code",
   "execution_count": 1,
   "metadata": {},
   "outputs": [],
   "source": [
    "import cv2"
   ]
  },
  {
   "cell_type": "code",
   "execution_count": 5,
   "metadata": {},
   "outputs": [
    {
     "name": "stdout",
     "output_type": "stream",
     "text": [
      "4.7.0\n"
     ]
    }
   ],
   "source": [
    "print(cv2.__version__)"
   ]
  },
  {
   "cell_type": "code",
   "execution_count": null,
   "metadata": {},
   "outputs": [],
   "source": [
    "# cv2."
   ]
  },
  {
   "cell_type": "markdown",
   "metadata": {},
   "source": [
    "# 2. Test Samples"
   ]
  },
  {
   "cell_type": "code",
   "execution_count": 29,
   "metadata": {
    "collapsed": true,
    "jupyter": {
     "outputs_hidden": true
    },
    "tags": []
   },
   "outputs": [
    {
     "name": "stdout",
     "output_type": "stream",
     "text": [
      "/Users/zewen/Documents/AlwinYang91/asl/opencv-4.7.0/samples/python\n",
      " This is a sample for histogram plotting for RGB images and grayscale images for better understanding of colour distribution\n",
      "\n",
      "Benefit : Learn how to draw histogram of images\n",
      "          Get familier with cv.calcHist, cv.equalizeHist,cv.normalize and some drawing functions\n",
      "\n",
      "Level : Beginner or Intermediate\n",
      "\n",
      "Functions : 1) hist_curve : returns histogram of an image drawn as curves\n",
      "            2) hist_lines : return histogram of an image drawn as bins ( only for grayscale images )\n",
      "\n",
      "Usage : python hist.py <image_file>\n",
      "\n",
      "Abid Rahman 3/14/12 debug Gary Bradski\n",
      "\n",
      "usage : python hist.py <image_file>\n",
      "[ WARN:0@0.006] global samples.cpp:61 findFile cv::samples::findFile('lena.jpg') => '/Users/zewen/Documents/AlwinYang91/asl/opencv-4.7.0/samples/python/../../samples/data/lena.jpg'\n",
      " Histogram plotting \n",
      "\n",
      "    Keymap :\n",
      "\n",
      "    a - show histogram for color image in curve mode \n",
      "\n",
      "    b - show histogram in bin mode \n",
      "\n",
      "    c - show equalized histogram (always in bin mode) \n",
      "\n",
      "    d - show histogram for gray image in curve mode \n",
      "\n",
      "    e - show histogram for a normalized image in curve mode \n",
      "\n",
      "    Esc - exit \n",
      "\n",
      "    \n",
      "ESC\n",
      "Done\n"
     ]
    }
   ],
   "source": [
    "# Histogram sample\n",
    "%cd opencv-4.7.0/samples/python"
   ]
  },
  {
   "cell_type": "code",
   "execution_count": 30,
   "metadata": {},
   "outputs": [
    {
     "name": "stdout",
     "output_type": "stream",
     "text": [
      " This is a sample for histogram plotting for RGB images and grayscale images for better understanding of colour distribution\n",
      "\n",
      "Benefit : Learn how to draw histogram of images\n",
      "          Get familier with cv.calcHist, cv.equalizeHist,cv.normalize and some drawing functions\n",
      "\n",
      "Level : Beginner or Intermediate\n",
      "\n",
      "Functions : 1) hist_curve : returns histogram of an image drawn as curves\n",
      "            2) hist_lines : return histogram of an image drawn as bins ( only for grayscale images )\n",
      "\n",
      "Usage : python hist.py <image_file>\n",
      "\n",
      "Abid Rahman 3/14/12 debug Gary Bradski\n",
      "\n",
      "usage : python hist.py <image_file>\n",
      "[ WARN:0@0.005] global samples.cpp:61 findFile cv::samples::findFile('lena.jpg') => '/Users/zewen/Documents/AlwinYang91/asl/opencv-4.7.0/samples/python/../../samples/data/lena.jpg'\n",
      " Histogram plotting \n",
      "\n",
      "    Keymap :\n",
      "\n",
      "    a - show histogram for color image in curve mode \n",
      "\n",
      "    b - show histogram in bin mode \n",
      "\n",
      "    c - show equalized histogram (always in bin mode) \n",
      "\n",
      "    d - show histogram for gray image in curve mode \n",
      "\n",
      "    e - show histogram for a normalized image in curve mode \n",
      "\n",
      "    Esc - exit \n",
      "\n",
      "    \n",
      "c\n",
      "c\n",
      "a\n",
      "b\n",
      "hist_lines applicable only for grayscale images\n",
      "c\n",
      "d\n",
      "e\n",
      "a\n",
      "c\n",
      "c\n",
      "c\n",
      "1   HIToolbox                           0x000000019a4b85c8 _ZN15MenuBarInstance22EnsureAutoShowObserverEv + 120\n",
      "2   HIToolbox                           0x000000019a4b8188 _ZN15MenuBarInstance14EnableAutoShowEv + 60\n",
      "3   HIToolbox                           0x000000019a4258bc _ZN15MenuBarInstance21UpdateAggregateUIModeE21MenuBarAnimationStylehhh + 1184\n",
      "4   HIToolbox                           0x000000019a4b8004 _ZN15MenuBarInstance19SetFullScreenUIModeEjj + 180\n",
      "5   AppKit                              0x00000001942a7d30 -[NSApplication _setPresentationOptions:instance:flags:] + 956\n",
      "6   AppKit                              0x000000019413d93c -[NSApplication _updateFullScreenPresentationOptionsForInstance:] + 404\n",
      "7   CoreFoundation                      0x0000000190d5a560 __CFNOTIFICATIONCENTER_IS_CALLING_OUT_TO_AN_OBSERVER__ + 148\n",
      "8   CoreFoundation                      0x0000000190df8044 ___CFXRegistrationPost_block_invoke + 88\n",
      "9   CoreFoundation                      0x0000000190df7f8c _CFXRegistrationPost + 440\n",
      "10  CoreFoundation                      0x0000000190d2bb64 _CFXNotificationPost + 708\n",
      "11  Foundation                          0x0000000191c1b38c -[NSNotificationCenter postNotificationName:object:userInfo:] + 88\n",
      "12  AppKit                              0x00000001942a82b4 spacesNotificationHandler + 96\n",
      "13  SkyLight                            0x0000000195995214 _ZN12_GLOBAL__N_123notify_datagram_handlerEj15CGSDatagramTypePvmS1_ + 896\n",
      "14  SkyLight                            0x0000000195993e10 CGSSnarfAndDispatchDatagrams + 808\n",
      "15  SkyLight                            0x0000000195cbba9c SLSGetNextEventRecordInternal + 344\n",
      "16  SkyLight                            0x0000000195abcfb0 SLEventCreateNextEvent + 16\n",
      "17  HIToolbox                           0x000000019a450b58 _ZL38PullEventsFromWindowServerOnConnectionjhP17__CFMachPortBoost + 60\n",
      "18  HIToolbox                           0x000000019a450ae0 _ZL14MessageHandlerP12__CFMachPortPvlS1_ + 60\n",
      "19  CoreFoundation                      0x0000000190d95410 __CFMachPortPerform + 260\n",
      "20  CoreFoundation                      0x0000000190d65f98 __CFRUNLOOP_IS_CALLING_OUT_TO_A_SOURCE1_PERFORM_FUNCTION__ + 60\n",
      "21  CoreFoundation                      0x0000000190d65eb8 __CFRunLoopDoSource1 + 520\n",
      "22  CoreFoundation                      0x0000000190d648a4 __CFRunLoopRun + 2264\n",
      "23  CoreFoundation                      0x0000000190d63878 CFRunLoopRunSpecific + 612\n",
      "24  HIToolbox                           0x000000019a443fa0 RunCurrentEventLoopInMode + 292\n",
      "25  HIToolbox                           0x000000019a443c30 ReceiveNextEventCommon + 236\n",
      "26  HIToolbox                           0x000000019a443b2c _BlockUntilNextEventMatchingListInModeWithFilter + 72\n",
      "27  AppKit                              0x0000000193fe984c _DPSNextEvent + 632\n",
      "28  AppKit                              0x0000000193fe89dc -[NSApplication(NSEvent) _nextEventMatchingEventMask:untilDate:inMode:dequeue:] + 728\n",
      "29  cv2.abi3.so                         0x0000000136706e04 cvWaitKey + 560\n",
      "30  cv2.abi3.so                         0x0000000136700e64 _ZN2cv9waitKeyExEi + 168\n",
      "31  cv2.abi3.so                         0x0000000136700f5c _ZN2cv7waitKeyEi + 48\n",
      "32  cv2.abi3.so                         0x0000000135cc98f0 _ZL19pyopencv_cv_waitKeyP7_objectS0_S0_ + 148\n",
      "33  python3.10                          0x000000010036d824 cfunction_call + 60\n",
      "34  python3.10                          0x000000010042b350 _PyEval_EvalFrameDefault + 59104\n",
      "35  python3.10                          0x00000001003109b8 _PyFunction_Vectorcall + 548\n",
      "36  python3.10                          0x00000001004459f8 call_function + 148\n",
      "37  python3.10                          0x000000010041eb74 _PyEval_EvalFrameDefault + 7940\n",
      "38  python3.10                          0x000000010041b204 _PyEval_Vector + 532\n",
      "39  python3.10                          0x0000000100494220 run_mod + 220\n",
      "40  python3.10                          0x0000000100493fc0 pyrun_file + 156\n",
      "41  python3.10                          0x0000000100493a0c _PyRun_SimpleFileObject + 316\n",
      "42  python3.10                          0x0000000100493374 _PyRun_AnyFileObject + 216\n",
      "43  python3.10                          0x00000001004b7aa0 pymain_run_file_obj + 196\n",
      "44  python3.10                          0x00000001004b732c pymain_run_file + 72\n",
      "45  python3.10                          0x00000001004b69cc pymain_run_python + 340\n",
      "46  python3.10                          0x00000001004b6820 Py_RunMain + 40\n",
      "47  python3.10                          0x00000001002b0820 main + 56\n",
      "48  dyld                                0x000000019095be50 start + 2544\n",
      "1   HIToolbox                           0x000000019a44390c _ZN15MenuBarInstance22RemoveAutoShowObserverEv + 44\n",
      "2   HIToolbox                           0x000000019a4b8fbc _ZN15MenuBarInstance15DisableAutoShowEv + 36\n",
      "3   HIToolbox                           0x000000019a4b90b0 _ZN15MenuBarInstanceD2Ev + 128\n",
      "4   HIToolbox                           0x000000019a4b8ee0 _ZN15MenuBarInstance7ReleaseEv + 56\n",
      "5   AppKit                              0x00000001946454dc -[NSHIPresentationInstance discard] + 228\n",
      "6   AppKit                              0x0000000194a048b4 -[_NSFullScreenSpace(PresentationInstance) discardPresentationInstance] + 32\n",
      "7   AppKit                              0x0000000194a0490c -[_NSFullScreenSpace(PresentationInstance) activateFullScreenPresentationOptions] + 64\n",
      "8   AppKit                              0x000000019485e968 -[_NSExitFullScreenTransitionController _doSucceededToExitFullScreen] + 40\n",
      "9   AppKit                              0x000000019485f440 __63-[_NSExitFullScreenTransitionController _performExitFullScreen]_block_invoke + 236\n",
      "10  libxpc.dylib                        0x00000001909f642c _xpc_connection_reply_callout + 124\n",
      "11  libxpc.dylib                        0x00000001909f631c _xpc_connection_call_reply_async + 88\n",
      "12  libdispatch.dylib                   0x0000000190afe584 _dispatch_client_callout3 + 20\n",
      "13  libdispatch.dylib                   0x0000000190b1c710 _dispatch_mach_msg_async_reply_invoke + 344\n",
      "14  libdispatch.dylib                   0x0000000190b0cc70 _dispatch_main_queue_drain + 756\n",
      "15  libdispatch.dylib                   0x0000000190b0c96c _dispatch_main_queue_callback_4CF + 44\n",
      "16  CoreFoundation                      0x0000000190da6d40 __CFRUNLOOP_IS_SERVICING_THE_MAIN_DISPATCH_QUEUE__ + 16\n",
      "17  CoreFoundation                      0x0000000190d647c0 __CFRunLoopRun + 2036\n",
      "18  CoreFoundation                      0x0000000190d63878 CFRunLoopRunSpecific + 612\n",
      "19  HIToolbox                           0x000000019a443fa0 RunCurrentEventLoopInMode + 292\n",
      "20  HIToolbox                           0x000000019a443c30 ReceiveNextEventCommon + 236\n",
      "21  HIToolbox                           0x000000019a443b2c _BlockUntilNextEventMatchingListInModeWithFilter + 72\n",
      "22  AppKit                              0x0000000193fe984c _DPSNextEvent + 632\n",
      "23  AppKit                              0x0000000193fe89dc -[NSApplication(NSEvent) _nextEventMatchingEventMask:untilDate:inMode:dequeue:] + 728\n",
      "24  cv2.abi3.so                         0x0000000136706e04 cvWaitKey + 560\n",
      "25  cv2.abi3.so                         0x0000000136700e64 _ZN2cv9waitKeyExEi + 168\n",
      "26  cv2.abi3.so                         0x0000000136700f5c _ZN2cv7waitKeyEi + 48\n",
      "27  cv2.abi3.so                         0x0000000135cc98f0 _ZL19pyopencv_cv_waitKeyP7_objectS0_S0_ + 148\n",
      "28  python3.10                          0x000000010036d824 cfunction_call + 60\n",
      "29  python3.10                          0x000000010042b350 _PyEval_EvalFrameDefault + 59104\n",
      "30  python3.10                          0x00000001003109b8 _PyFunction_Vectorcall + 548\n",
      "31  python3.10                          0x00000001004459f8 call_function + 148\n",
      "32  python3.10                          0x000000010041eb74 _PyEval_EvalFrameDefault + 7940\n",
      "33  python3.10                          0x000000010041b204 _PyEval_Vector + 532\n",
      "34  python3.10                          0x0000000100494220 run_mod + 220\n",
      "35  python3.10                          0x0000000100493fc0 pyrun_file + 156\n",
      "36  python3.10                          0x0000000100493a0c _PyRun_SimpleFileObject + 316\n",
      "37  python3.10                          0x0000000100493374 _PyRun_AnyFileObject + 216\n",
      "38  python3.10                          0x00000001004b7aa0 pymain_run_file_obj + 196\n",
      "39  python3.10                          0x00000001004b732c pymain_run_file + 72\n",
      "40  python3.10                          0x00000001004b69cc pymain_run_python + 340\n",
      "41  python3.10                          0x00000001004b6820 Py_RunMain + 40\n",
      "42  python3.10                          0x00000001002b0820 main + 56\n",
      "43  dyld                                0x000000019095be50 start + 2544\n",
      "c\n",
      "c\n",
      "ESC\n",
      "Done\n"
     ]
    }
   ],
   "source": [
    "!python hist.py"
   ]
  },
  {
   "cell_type": "code",
   "execution_count": 33,
   "metadata": {},
   "outputs": [
    {
     "name": "stdout",
     "output_type": "stream",
     "text": [
      "\n",
      "example to show optical flow\n",
      "\n",
      "USAGE: opt_flow.py [<video_source>]\n",
      "\n",
      "Keys:\n",
      " 1 - toggle HSV flow visualization\n",
      " 2 - toggle glitch\n",
      "\n",
      "Keys:\n",
      "    ESC    - exit\n",
      "\n",
      "^C\n",
      "Traceback (most recent call last):\n",
      "  File \"/Users/zewen/Documents/AlwinYang91/asl/opencv-4.7.0/samples/python/opt_flow.py\", line 103, in <module>\n",
      "    main()\n",
      "  File \"/Users/zewen/Documents/AlwinYang91/asl/opencv-4.7.0/samples/python/opt_flow.py\", line 76, in main\n",
      "    flow = cv.calcOpticalFlowFarneback(prevgray, gray, None, 0.5, 3, 15, 3, 5, 1.2, 0)\n",
      "KeyboardInterrupt\n"
     ]
    }
   ],
   "source": [
    "# Optical flow sample\n",
    "!python opt_flow.py 1  # you need change different number in your local computer"
   ]
  },
  {
   "cell_type": "code",
   "execution_count": 6,
   "metadata": {
    "collapsed": true,
    "jupyter": {
     "outputs_hidden": true
    },
    "tags": []
   },
   "outputs": [
    {
     "name": "stdout",
     "output_type": "stream",
     "text": [
      "\n",
      "example to show optical flow\n",
      "\n",
      "USAGE: opt_flow.py [<video_source>]\n",
      "\n",
      "Keys:\n",
      " 1 - toggle HSV flow visualization\n",
      " 2 - toggle glitch\n",
      "\n",
      "Keys:\n",
      "    ESC    - exit\n",
      "\n",
      "Done\n"
     ]
    },
    {
     "name": "stderr",
     "output_type": "stream",
     "text": [
      "[ WARN:0] global C:\\Users\\runneradmin\\AppData\\Local\\Temp\\pip-req-build-c2l3r8zm\\opencv\\modules\\videoio\\src\\cap_msmf.cpp (438) `anonymous-namespace'::SourceReaderCB::~SourceReaderCB terminating async callback\n"
     ]
    }
   ],
   "source": [
    "# Optical flow sample\n",
    "# !cd opencv-4.5.4/samples/python & python opt_flow.py 4"
   ]
  },
  {
   "cell_type": "code",
   "execution_count": null,
   "metadata": {},
   "outputs": [],
   "source": []
  }
 ],
 "metadata": {
  "kernelspec": {
   "display_name": "opencv",
   "language": "python",
   "name": "python3"
  },
  "language_info": {
   "codemirror_mode": {
    "name": "ipython",
    "version": 3
   },
   "file_extension": ".py",
   "mimetype": "text/x-python",
   "name": "python",
   "nbconvert_exporter": "python",
   "pygments_lexer": "ipython3",
   "version": "3.10.9"
  },
  "vscode": {
   "interpreter": {
    "hash": "924a9cc9e66b45ae27b0e3f6011f1f1aa6e27e0379cd2342aec8084a84c9d013"
   }
  }
 },
 "nbformat": 4,
 "nbformat_minor": 4
}
